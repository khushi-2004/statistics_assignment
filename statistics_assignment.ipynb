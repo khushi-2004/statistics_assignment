{
 "cells": [
  {
   "cell_type": "code",
   "execution_count": null,
   "id": "b0ba32af-db6a-4634-990b-db8751dd30ff",
   "metadata": {},
   "outputs": [],
   "source": [
    "Q1. What is Statistics?"
   ]
  },
  {
   "cell_type": "code",
   "execution_count": null,
   "id": "c1ffbade-ee6e-44a0-bb5d-91eee75da584",
   "metadata": {},
   "outputs": [],
   "source": [
    "statistics:\n",
    "    it is the science of collecting,organizing and analyzing data.\n",
    "    \n",
    "=>  Statistics is used in various fields such as science, business, economics, social sciences,\n",
    "    and more to understand patterns, trends, and relationships within data."
   ]
  },
  {
   "cell_type": "code",
   "execution_count": null,
   "id": "ab44061e-e96b-4494-afe7-0890e8a1b55d",
   "metadata": {},
   "outputs": [],
   "source": [
    "Q2. Define the different types of statistics and give an example of when each type might be used."
   ]
  },
  {
   "cell_type": "code",
   "execution_count": null,
   "id": "a7eb9d35-1911-4068-874e-c09611a3bc6b",
   "metadata": {},
   "outputs": [],
   "source": [
    "type of statistics:\n",
    "    1. descriptive statistics\n",
    "    2. inferential statistics\n",
    "    \n",
    "1. descriptive statistics:\n",
    "    it consist of organizing and summarizing data.\n",
    "     for example:\n",
    "            imagine a company want to understand the avg of its employee.\n",
    "            by calculating the mean age of all employee,the company can get\n",
    "            an overall idea of the age distribution within the organization.\n",
    "    \n",
    "2. inferential statistics:\n",
    "    it consist of using data you have measured to from conclusion.\n",
    "    for example:\n",
    "         A pharmaceutical company is conducting a clinical trial to test the effectiveness of a new drug.\n",
    "        They randomly select a group of patients and administer the drug, while another group receives a placebo.\n",
    "        \n",
    "        "
   ]
  },
  {
   "cell_type": "code",
   "execution_count": null,
   "id": "998cccbd-60d8-42ba-863b-42f52f957770",
   "metadata": {},
   "outputs": [],
   "source": [
    "Q3. What are the different types of data and how do they differ from each other? Provide an example of\n",
    "each type of data."
   ]
  },
  {
   "cell_type": "code",
   "execution_count": null,
   "id": "36ef85c2-6f1e-4716-95ef-055481e17230",
   "metadata": {},
   "outputs": [],
   "source": [
    "Data:\n",
    "    \"facts or pices of information\"\n",
    "    \n",
    "it is divided into two part:\n",
    "                    \n",
    "                    Data\n",
    "        ______________|_____________\n",
    "        |                           |\n",
    "    1. quatitative data          2. qualitative data\n",
    "    --> it consist of numarical   --> it consist of categorical data\n",
    "        value\n",
    "        \n",
    "    _________|________                               |\n",
    "    |                 |                     _________|____________\n",
    "1. discrete         2. continous            |                     |\n",
    "\n",
    "--> whole number    --> any value         1. nominal             2. ordinal\n",
    "\n",
    "example:             example:               example:             example:\n",
    "   > no. of bank        > weight,               > gender,           > customer\n",
    "    account               height,                 blood group,        feedback\n",
    "   > no. of childern      speed                   pin code          (good, bad)\n",
    "    \n",
    "    \n",
    "           "
   ]
  },
  {
   "cell_type": "code",
   "execution_count": null,
   "id": "35d89981-3039-4042-8014-54dc712423f8",
   "metadata": {},
   "outputs": [],
   "source": [
    "Q4. Categorise the following datasets with respect to quantitative and qualitative data types:\n",
    "(i) Grading in exam: A+, A, B+, B, C+, C, D, E\n",
    "(ii) Colour of mangoes: yellow, green, orange, red\n",
    "(iii) Height data of a class: [178.9, 179, 179.5, 176, 177.2, 178.3, 175.8,...]\n",
    "(iv) Number of mangoes exported by a farm: [500, 600, 478, 672, ...]"
   ]
  },
  {
   "cell_type": "code",
   "execution_count": null,
   "id": "1a3950e3-ee23-49da-a305-9d3193e1a15d",
   "metadata": {},
   "outputs": [],
   "source": [
    "(i) Grading in exam: A+, A, B+, B, C+, C, D, E\n",
    "--> qualitative\n",
    "\n",
    "(ii) Colour of mangoes: yellow, green, orange, red\n",
    "--> qualitative\n",
    "\n",
    "(iii) Height data of a class: [178.9, 179, 179.5, 176, 177.2, 178.3, 175.8,...]\n",
    "--> quantitative\n",
    "\n",
    "(iv) Number of mangoes exported by a farm: [500, 600, 478, 672, ...]\n",
    "--> quantitative\n"
   ]
  },
  {
   "cell_type": "code",
   "execution_count": null,
   "id": "472935d8-6c11-4037-8910-5bd65c5c6ce1",
   "metadata": {},
   "outputs": [],
   "source": [
    "Q5. Explain the concept of levels of measurement and give an example of a variable for each level."
   ]
  },
  {
   "cell_type": "code",
   "execution_count": null,
   "id": "58fe75cb-72a3-4556-b142-7397852c3b69",
   "metadata": {},
   "outputs": [],
   "source": [
    "Levels of measurement, also known as scales of measurement,\n",
    "refer to the different ways in which variables can be categorized and measured.\n",
    "\n",
    "There are four main levels of measurement:\n",
    "        nominal, ordinal, interval, and ratio\n",
    "\n",
    "1. nominal:\n",
    "    Example: \n",
    "        Gender is a nominal variable. It can be categorized into two or\n",
    "        more groups such as \"Male,\" \"Female,\" and \"Non-binary.\" \n",
    "    \n",
    "2. ordinal:\n",
    "    Example: \n",
    "        Educational levels can be considered ordinal. Categories like\n",
    "        \"High School Diploma,\" \"Bachelor's Degree,\" \"Master's Degree,\" and \"Doctorate\"\n",
    "    \n",
    "3. interval:\n",
    "    Example: \n",
    "        Temperature measured in Celsius or Fahrenheit is an interval variable.\n",
    "    \n",
    "4. ratio:\n",
    "    Example:\n",
    "        Height is a ratio variable.\n",
    "        \n",
    "        "
   ]
  },
  {
   "cell_type": "code",
   "execution_count": null,
   "id": "fc305995-d902-4547-b7a4-6124d00a85e6",
   "metadata": {},
   "outputs": [],
   "source": [
    "Q6. Why is it important to understand the level of measurement when analyzing data? Provide an\n",
    "example to illustrate your answer."
   ]
  },
  {
   "cell_type": "code",
   "execution_count": null,
   "id": "6dd3602b-a2d3-49c6-8f10-6a032a00143a",
   "metadata": {},
   "outputs": [],
   "source": [
    "Understanding the level of measurement is crucial when analyzing data because\n",
    "it dictates the appropriate statistical method that can be applied to the data\n",
    "and the meaningfulness of the result obtained.\n",
    "\n",
    "Using the wrong statistical analysis for a particular level of measurement can lead\n",
    "to incorrect conclusions and interpretations.\n",
    "\n",
    "Lets illustrate this with an example:\n",
    "    Suppose you are conducting a survey to gather information about peoples favorite colors.\n",
    "    You collect data from a group of participants and ask them to choose their favorite color \n",
    "    from a list of options: \"Red,\" \"Blue,\" \"Green,\" and \"Yellow.\"\n",
    "    In this scenario, the variable is \"Favorite Color,\" and \n",
    "    its important to consider its level of measurement:\n",
    "        \n",
    "1. nominal level:\n",
    "    If you treat \"Favorite Color\" as a nominal variable,\n",
    "    you can calculate frequencies and percentages for each color to see which color is the most popular.\n",
    "    \n",
    "2. ordinal level:\n",
    "    If you treat \"Favorite Color\" as an ordinal variable,\n",
    "    you can determine the ranking of colors based on the number of votes each color receives. \n",
    "    \n",
    "3. interval/ratio level:\n",
    "    However, if you mistakenly treat \"Favorite Color\" as an interval or ratio variable,\n",
    "    you might attempt to perform mathematical operations like calculating the mean (average) favorite color.\n",
    "    \n",
    "In this example, understanding the level of measurement helps you choose the appropriate statistical analyses and prevent errors\n",
    "Treating nominal or ordinal data as interval/ratio data can lead to incorrect conclusions and misinterpretations\n",
    "\n"
   ]
  },
  {
   "cell_type": "code",
   "execution_count": null,
   "id": "bf59f15b-efaa-41a9-a5c8-66eb05735707",
   "metadata": {},
   "outputs": [],
   "source": [
    "Q7. How nominal data type is different from ordinal data type."
   ]
  },
  {
   "cell_type": "code",
   "execution_count": null,
   "id": "1e4840ed-5eee-4593-a14d-2af507c11c80",
   "metadata": {},
   "outputs": [],
   "source": [
    "Nominal and ordinal data types are both categories within the levels of measurement,\n",
    "and they have distinct characteristics that set them apart.\n",
    "\n",
    "Nominal Data:\n",
    "\n",
    "<> Nominal data consists of categories or labels that represent distinct groups \n",
    "with no inherent order or ranking.\n",
    "\n",
    "<> The categories are mutually exclusive and do not have any quantitative meaning or hierarchy.\n",
    "\n",
    "<> Nominal data can be used for classification and identification purposes.\n",
    "\n",
    "<> You can calculate frequencies, proportions, and mode for nominal data, \n",
    "but you cannot perform meaningful calculations such as averages or meaningful rankings.\n",
    "\n",
    "<> Examples of nominal data include gender (male, female, non-binary), colors (red, blue, green), and types of animals (dog, cat, bird).\n",
    "\n",
    "\n",
    "Ordinal Data:\n",
    "\n",
    "<> Ordinal data consists of categories with a clear order or ranking, \n",
    "but the intervals between the categories are not uniform or meaningful.\n",
    "\n",
    "<> The order implies that one category is higher or lower than another, but the magnitude of the differences is not specified.\n",
    "\n",
    "<> You can calculate frequencies, proportions, mode, and median for ordinal data. Median is preferred over mean because the latter assumes equal intervals, which may not hold for ordinal data.\n",
    "\n",
    "<> Ordinal data is suitable for situations where relative comparisons matter more than precise measurements.\n",
    "\n",
    "Examples of ordinal data include educational levels (high school, bachelor's, master's, doctorate), \n",
    "customer satisfaction ratings (very dissatisfied, dissatisfied, neutral, satisfied, very satisfied), and socioeconomic status categories (low, middle, high).\n",
    "\n"
   ]
  },
  {
   "cell_type": "code",
   "execution_count": null,
   "id": "692cda7e-bdb7-4fba-9f01-862cc57b38f0",
   "metadata": {},
   "outputs": [],
   "source": [
    "Q8. Which type of plot can be used to display data in terms of range?"
   ]
  },
  {
   "cell_type": "code",
   "execution_count": null,
   "id": "69609456-2a99-456b-9aba-a62c44429d07",
   "metadata": {},
   "outputs": [],
   "source": [
    "A type of plot that can be used to display data in terms of range is the box plot,\n",
    "also known as a box-and-whisker plot.\n",
    "The box plot is particularly useful for visualizing the spread and distribution of data,\n",
    "including the range, quartiles, and potential outliers."
   ]
  },
  {
   "cell_type": "code",
   "execution_count": null,
   "id": "ac55fb20-dc1c-4897-9a4b-55e44e586af4",
   "metadata": {},
   "outputs": [],
   "source": [
    "Q9. Describe the difference between descriptive and inferential statistics. Give an example of each\n",
    "type of statistics and explain how they are used."
   ]
  },
  {
   "cell_type": "code",
   "execution_count": null,
   "id": "fd8273d2-0e3e-4e7a-8286-7054f7410849",
   "metadata": {},
   "outputs": [],
   "source": [
    "Descriptive Statistics:\n",
    "    \n",
    "        Descriptive statistics involve methods used to summarize and describe the main features of a dataset. \n",
    "        Their primary goal is to provide a clear and concise understanding of the data without making broader inferences beyond the data itself. \n",
    "        Descriptive statistics are concerned with organizing and presenting data in a meaningful way.\n",
    "        \n",
    "Example:\n",
    "    Suppose you have collected the ages of a group of students.\n",
    "    You can calculate the mean, median, and standard deviation of these ages.\n",
    "    \n",
    "Inferential Statistics:\n",
    "    \n",
    "        Inferential statistics, on the other hand, involve making predictions, inferences, or generalizations about a larger population based on a sample of data.\n",
    "        These methods are used when you want to draw conclusions that extend beyond the data you have collected, making them particularly useful for scientific research, business decisions, and more.\n",
    "        \n",
    "Example:\n",
    "    Imagine you work for a polling company and want to predict the voting preferences of a population for an upcoming election.\n",
    "    You can select a representative sample of voters and conduct a survey to determine their preferences"
   ]
  },
  {
   "cell_type": "code",
   "execution_count": null,
   "id": "3a58c6f2-d5c9-4613-92d4-705570ba8397",
   "metadata": {},
   "outputs": [],
   "source": [
    "Q10. What are some common measures of central tendency and variability used in statistics? Explain\n",
    "how each measure can be used to describe a dataset."
   ]
  },
  {
   "cell_type": "code",
   "execution_count": null,
   "id": "a34092ed-f1ba-45e6-8c44-8517132c4dbc",
   "metadata": {},
   "outputs": [],
   "source": [
    "Measures of Central Tendency:\n",
    "    \n",
    "These measures provide information about the central or typical value around which the data points tend to cluster.\n",
    "\n",
    "1.Mean:\n",
    "    The mean, or average, is calculated by summing up all the values in a dataset and dividing by the number of values. \n",
    "    Its sensitive to extreme values and provides a balanced representation of the data's central value.\n",
    "\n",
    "2.Median:\n",
    "    The median is the middle value when the data is sorted in order.\n",
    "    Its less affected by outliers and extreme values compared to the mean. The median is especially useful for skewed distributions.\n",
    "\n",
    "3. Mode:\n",
    "    The mode is the value that appears most frequently in the dataset.\n",
    "    Its particularly useful for categorical or discrete data, where you want to identify the most common category.\n",
    "    \n",
    "Measures of Variability:\n",
    "    \n",
    "These measures describe the spread or dispersion of data points around the central value.\n",
    "\n",
    "1. Range:\n",
    "    The range is the difference between the maximum and minimum values in the dataset.\n",
    "    It provides a simple measure of the data overall spread but can be sensitive to outliers.\n",
    "\n",
    "2. Variance:\n",
    "    The variance is the average of the squared differences between each data point and the mean. \n",
    "    It quantifies the variability of the data points around the mean. A higher variance indicates greater spread.\n",
    "\n",
    "3. Standard Deviation:\n",
    "    The standard deviation is the square root of the variance.\n",
    "    Its a widely used measure of variability that indicates how much the data deviate from the mean. \n",
    "    A smaller standard deviation indicates less spread.\n",
    "\n",
    "4. Interquartile Range (IQR): \n",
    "    The IQR is the range between the third quartile (Q3) and the first quartile (Q1). \n",
    "    Its less affected by extreme values and provides a measure of the spread within the middle 50% of the data\n",
    "    \n",
    "    "
   ]
  },
  {
   "cell_type": "code",
   "execution_count": null,
   "id": "dbb4cba9-8228-4ce4-87b0-17fbd621fb44",
   "metadata": {},
   "outputs": [],
   "source": []
  }
 ],
 "metadata": {
  "kernelspec": {
   "display_name": "Python 3 (ipykernel)",
   "language": "python",
   "name": "python3"
  },
  "language_info": {
   "codemirror_mode": {
    "name": "ipython",
    "version": 3
   },
   "file_extension": ".py",
   "mimetype": "text/x-python",
   "name": "python",
   "nbconvert_exporter": "python",
   "pygments_lexer": "ipython3",
   "version": "3.10.8"
  }
 },
 "nbformat": 4,
 "nbformat_minor": 5
}
